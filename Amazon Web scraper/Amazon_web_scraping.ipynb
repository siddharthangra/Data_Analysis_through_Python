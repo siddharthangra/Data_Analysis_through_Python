{
 "cells": [
  {
   "cell_type": "code",
   "execution_count": 4,
   "metadata": {},
   "outputs": [],
   "source": [
    "from bs4 import BeautifulSoup\n",
    "import requests\n",
    "import smtplib\n",
    "import time\n",
    "import datetime"
   ]
  },
  {
   "cell_type": "code",
   "execution_count": 5,
   "metadata": {},
   "outputs": [
    {
     "name": "stdout",
     "output_type": "stream",
     "text": [
      "boAt Rockerz 550 Bluetooth Wireless Over Ear Headphones with Upto 20 Hours Playback, 50MM Drivers, Soft Padded Ear Cushions and Physical Noise Isolation with Mic (Black Symphony)\n",
      "2,599\n",
      "<class 'str'>\n",
      "<class 'str'>\n"
     ]
    }
   ],
   "source": [
    "URL = \"https://www.amazon.in/boAt-Rockerz-550-Headphone-Aesthetics/dp/B08R7M1JM5/ref=sr_1_3?crid=14NIM8OOVESXM&dib=eyJ2IjoiMSJ9.HpWI2eB2JTDRxFQ8P0ttlukgdqbwyZqL4d38gpqFeHzWuOw86OwUrrKl2pWMrdaawfq5OR37kGpMrf_E-bAUhxilDkRme--PZWL98onD1S-fDX5vJkhuPyPK6qGfzZHlunB2qvjbozyx_XNLFkxRnm3hOjHM85cEw5XpnGQGQ7XE6wY8RL0vNZ_9Q8oGP-_EeZ_vJQOKyNqGuW_cJFB8r7nuklBcTj_-eWCD2G89sNcC-NiE7baOUARNy3-fKyj26ahvJIRCQT_x2m8OyXNXQCTfIHsZ_P9u8p-xSbOGpnI.G_ze3dtLUXdxhM3AB4-d3FlxvkmTKN3UHxFpoZiFN9o&dib_tag=se&keywords=boats%2Bheadphone&qid=1720164689&refinements=p_36%3A190000-300000%2Cp_123%3A214020&rnid=91049095031&s=electronics&sprefix=boats%2Bheadphone%2Celectronics%2C252&sr=1-3&th=1\"\n",
    "header = {\"User-Agent\": \"Mozilla/5.0 (Windows NT 10.0; Win64; x64) AppleWebKit/537.36 (KHTML, like Gecko) Chrome/123.0.0.0 Safari/537.36 OPR/109.0.0.0\"}\n",
    "\n",
    "page = requests.get(URL, headers = header)\n",
    "soup1 = BeautifulSoup(page.content, 'html.parser')\n",
    "##print(soup1)\n",
    "soup2 = BeautifulSoup(soup1.prettify(), 'html.parser')\n",
    "##print(soup2)\n",
    "title = soup2.find(id = 'productTitle').get_text().strip()\n",
    "print(title)\n",
    "price = soup2.find('span' , class_ = 'a-price-whole').get_text().strip().replace('.', \"\").replace(\" \",\"\").replace('\\n','')\n",
    "print(price)\n",
    "print(type(price))\n",
    "print(type(title))\n",
    "\n"
   ]
  },
  {
   "cell_type": "code",
   "execution_count": 6,
   "metadata": {},
   "outputs": [
    {
     "name": "stdout",
     "output_type": "stream",
     "text": [
      "2024-07-08\n"
     ]
    }
   ],
   "source": [
    "today = datetime.date.today()\n",
    "print(today)"
   ]
  },
  {
   "cell_type": "code",
   "execution_count": 7,
   "metadata": {},
   "outputs": [],
   "source": [
    "import csv\n",
    "header = ['Product','Price','Date']\n",
    "data = [title,price, today]\n",
    "\n",
    "with open('Web_scrapped_data.csv','w', newline = '',encoding='UTF8') as f:\n",
    "    writer = csv.writer(f)\n",
    "    writer.writerow(header)\n",
    "    writer.writerow(data)"
   ]
  },
  {
   "cell_type": "code",
   "execution_count": 13,
   "metadata": {},
   "outputs": [],
   "source": [
    "import pandas as pd\n",
    "df = pd.read_csv(r\"C:\\Users\\SIDDHARTH\\OneDrive\\Documents\\JOB PROFILES\\Data Analyst\\Python nd ML\\code files\\Web_scrapped_data.csv\")"
   ]
  },
  {
   "cell_type": "code",
   "execution_count": 9,
   "metadata": {},
   "outputs": [],
   "source": [
    "#appending the data to the csv\n",
    "\n",
    "with open('Web_scrapped_data.csv','a+', newline = '',encoding='UTF8') as f:\n",
    "    writer = csv.writer(f)\n",
    "    writer.writerow(data)"
   ]
  },
  {
   "cell_type": "code",
   "execution_count": 10,
   "metadata": {},
   "outputs": [],
   "source": [
    "def check_price():\n",
    "    URL = \"https://www.amazon.in/boAt-Rockerz-550-Headphone-Aesthetics/dp/B08R7M1JM5/ref=sr_1_3?crid=14NIM8OOVESXM&dib=eyJ2IjoiMSJ9.HpWI2eB2JTDRxFQ8P0ttlukgdqbwyZqL4d38gpqFeHzWuOw86OwUrrKl2pWMrdaawfq5OR37kGpMrf_E-bAUhxilDkRme--PZWL98onD1S-fDX5vJkhuPyPK6qGfzZHlunB2qvjbozyx_XNLFkxRnm3hOjHM85cEw5XpnGQGQ7XE6wY8RL0vNZ_9Q8oGP-_EeZ_vJQOKyNqGuW_cJFB8r7nuklBcTj_-eWCD2G89sNcC-NiE7baOUARNy3-fKyj26ahvJIRCQT_x2m8OyXNXQCTfIHsZ_P9u8p-xSbOGpnI.G_ze3dtLUXdxhM3AB4-d3FlxvkmTKN3UHxFpoZiFN9o&dib_tag=se&keywords=boats%2Bheadphone&qid=1720164689&refinements=p_36%3A190000-300000%2Cp_123%3A214020&rnid=91049095031&s=electronics&sprefix=boats%2Bheadphone%2Celectronics%2C252&sr=1-3&th=1\"\n",
    "    header = {\"User-Agent\": \"Mozilla/5.0 (Windows NT 10.0; Win64; x64) AppleWebKit/537.36 (KHTML, like Gecko) Chrome/123.0.0.0 Safari/537.36 OPR/109.0.0.0\"}\n",
    "    page = requests.get(URL, headers = header)\n",
    "    soup1 = BeautifulSoup(page.content, 'html.parser')\n",
    "    soup2 = BeautifulSoup(soup1.prettify(), 'html.parser')\n",
    "    title = soup2.find(id = 'productTitle').get_text().strip()\n",
    "    price = soup2.find('span' , class_ = 'a-price-whole').get_text().strip().replace('.', \"\").replace(\" \",\"\").replace('\\n','')\n",
    "\n",
    "    today = datetime.date.today()\n",
    "    import csv\n",
    "    header = ['Product','Price','Date']\n",
    "    data = [title,price, today]\n",
    "\n",
    "    with open('Web_scrapped_data.csv','a+', newline = '',encoding='UTF8') as f:\n",
    "        writer = csv.writer(f)\n",
    "        writer.writerow(data)\n",
    "      \n",
    "\n"
   ]
  },
  {
   "cell_type": "code",
   "execution_count": 11,
   "metadata": {},
   "outputs": [
    {
     "ename": "KeyboardInterrupt",
     "evalue": "",
     "output_type": "error",
     "traceback": [
      "\u001b[1;31m---------------------------------------------------------------------------\u001b[0m",
      "\u001b[1;31mKeyboardInterrupt\u001b[0m                         Traceback (most recent call last)",
      "Cell \u001b[1;32mIn[11], line 3\u001b[0m\n\u001b[0;32m      1\u001b[0m \u001b[38;5;28;01mwhile\u001b[39;00m(\u001b[38;5;28;01mTrue\u001b[39;00m):\n\u001b[0;32m      2\u001b[0m     check_price()\n\u001b[1;32m----> 3\u001b[0m     time\u001b[38;5;241m.\u001b[39msleep(\u001b[38;5;241m5\u001b[39m)\n",
      "\u001b[1;31mKeyboardInterrupt\u001b[0m: "
     ]
    }
   ],
   "source": [
    "while(True):\n",
    "    check_price()\n",
    "    time.sleep(5)\n",
    "\n",
    "## this checks and runs it againg and again check same byy changing tiem to let say 5 sec than a day"
   ]
  },
  {
   "cell_type": "code",
   "execution_count": 14,
   "metadata": {},
   "outputs": [
    {
     "name": "stdout",
     "output_type": "stream",
     "text": [
      "                                             Product  Price        Date\n",
      "0  boAt Rockerz 550 Bluetooth Wireless Over Ear H...  2,599  2024-07-08\n",
      "1  boAt Rockerz 550 Bluetooth Wireless Over Ear H...  2,599  2024-07-08\n",
      "2  boAt Rockerz 550 Bluetooth Wireless Over Ear H...  2,599  2024-07-08\n",
      "3  boAt Rockerz 550 Bluetooth Wireless Over Ear H...  2,599  2024-07-08\n"
     ]
    }
   ],
   "source": [
    "print(df)\n",
    "## as u can see 15 sec added 3 more similar rows acc to the code"
   ]
  },
  {
   "cell_type": "code",
   "execution_count": null,
   "metadata": {},
   "outputs": [],
   "source": []
  }
 ],
 "metadata": {
  "kernelspec": {
   "display_name": "base",
   "language": "python",
   "name": "python3"
  },
  "language_info": {
   "codemirror_mode": {
    "name": "ipython",
    "version": 3
   },
   "file_extension": ".py",
   "mimetype": "text/x-python",
   "name": "python",
   "nbconvert_exporter": "python",
   "pygments_lexer": "ipython3",
   "version": "3.11.5"
  }
 },
 "nbformat": 4,
 "nbformat_minor": 2
}
