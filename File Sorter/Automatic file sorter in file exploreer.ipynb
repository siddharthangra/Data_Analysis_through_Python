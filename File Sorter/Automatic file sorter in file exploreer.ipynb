{
 "cells": [
  {
   "cell_type": "markdown",
   "metadata": {},
   "source": [
    "Here we are going to make a file sorter which autormatically put the file into the folder according to their extensions\n"
   ]
  },
  {
   "cell_type": "code",
   "execution_count": 1,
   "metadata": {},
   "outputs": [],
   "source": [
    "import os, shutil\n"
   ]
  },
  {
   "cell_type": "code",
   "execution_count": 2,
   "metadata": {},
   "outputs": [],
   "source": [
    "path = r\"C:/Users/SIDDHARTH/OneDrive/Documents/JOB PROFILES/Data Analyst/Python nd ML/file sorter folder/\""
   ]
  },
  {
   "cell_type": "code",
   "execution_count": 11,
   "metadata": {},
   "outputs": [],
   "source": [
    "file_name = os.listdir(path)\n"
   ]
  },
  {
   "cell_type": "code",
   "execution_count": 8,
   "metadata": {},
   "outputs": [],
   "source": [
    "folder_names = [\"xlsx files\",\"png files\", \"mp4 files\"]\n",
    "\n",
    "for i in range(len(folder_names)):\n",
    "    if not os.path.exists(path + folder_names[i]):\n",
    "        os.makedirs(path + folder_names[i])"
   ]
  },
  {
   "cell_type": "code",
   "execution_count": 12,
   "metadata": {},
   "outputs": [],
   "source": [
    "for file in file_name:\n",
    "    if\".png\" in file and not os.path.exists(path + \"png files/\" + file ):\n",
    "        shutil.move(path+ file, path+ \"png files/\"+ file)\n",
    "    elif\".xlsx\" in file and not os.path.exists(path + \"xlsx files/\" + file ):\n",
    "        shutil.move(path+ file, path+ \"xlsx files/\"+ file)\n",
    "    elif\".mp4\" in file and not os.path.exists(path + \"mp4 files/\" + file ):\n",
    "        shutil.move(path+ file, path+ \"mp4 files/\"+ file)"
   ]
  }
 ],
 "metadata": {
  "kernelspec": {
   "display_name": "base",
   "language": "python",
   "name": "python3"
  },
  "language_info": {
   "codemirror_mode": {
    "name": "ipython",
    "version": 3
   },
   "file_extension": ".py",
   "mimetype": "text/x-python",
   "name": "python",
   "nbconvert_exporter": "python",
   "pygments_lexer": "ipython3",
   "version": "3.11.5"
  }
 },
 "nbformat": 4,
 "nbformat_minor": 2
}
